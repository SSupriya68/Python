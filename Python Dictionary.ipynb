{
 "cells": [
  {
   "cell_type": "markdown",
   "id": "5c25b877",
   "metadata": {},
   "source": [
    "# Python Dictionary\n",
    "\n",
    "Python dictionaries store the data values in key:value pairs.\n",
    "\n",
    "Dictionaries are written in curly braces {}, which includes the key:value pairs.\n",
    "Syntax of a dictionary: {key:value}\n",
    "\n",
    "for example : dict = {'a':100}"
   ]
  },
  {
   "cell_type": "markdown",
   "id": "55ba7400",
   "metadata": {},
   "source": [
    "### Proprerties of Dictionary\n",
    "\n",
    "1. Dictionaries are mutable in nature, that means you can change a dictionary.\n",
    "2. It preserves sequence order.\n",
    "3. Keys are unique, but values can be duplicate in a dictionary.\n",
    "4. Both homogenous and heterogenous data is allowed in dictionary.\n",
    "5. Slicind and indexing is not supported in dictionary."
   ]
  },
  {
   "cell_type": "markdown",
   "id": "835c6cca",
   "metadata": {},
   "source": [
    "### Dictionary Creation\n",
    "\n",
    "Dictionries are created by using curly braces or by other methods too."
   ]
  },
  {
   "cell_type": "code",
   "execution_count": 3,
   "id": "1979a137",
   "metadata": {},
   "outputs": [
    {
     "name": "stdout",
     "output_type": "stream",
     "text": [
      "{1: 'hii', 2: 'hello', 3: 'bye'}\n",
      "{1: 'Peter', 2: 'Jen', 3: 'Rachel'}\n",
      "{1: 'Cat', 2: 'Parrot', 3: 'Panda', 4: 'Dog'}\n"
     ]
    }
   ],
   "source": [
    "my_dict = {1:\"hii\", 2:\"hello\", 3:\"bye\"}\n",
    "print(my_dict)\n",
    "\n",
    "#creation of dictionary by using dict constructor\n",
    "my_dict = dict([(1, \"Peter\"),(2,\"Jen\"),(3,\"Rachel\")])\n",
    "print(my_dict)\n",
    "\n",
    "# creation of dictionary by using two different lists\n",
    "a = [1,2,3,4]\n",
    "b= [\"Cat\", \"Parrot\", \"Panda\", \"Dog\"]\n",
    "my_dict = {}\n",
    "for i in range (len(a)):\n",
    "    my_dict [a[i]] = b[i]\n",
    "print(my_dict)"
   ]
  },
  {
   "cell_type": "markdown",
   "id": "93c770c3",
   "metadata": {},
   "source": [
    "### Methods of Dictionary"
   ]
  },
  {
   "cell_type": "code",
   "execution_count": 5,
   "id": "36c43905",
   "metadata": {},
   "outputs": [
    {
     "name": "stdout",
     "output_type": "stream",
     "text": [
      "neha\n",
      "{1: 'one', 2: 'two', 3: 'three'}\n",
      "None\n",
      "{1: 'one', 2: 'two', 3: 'three'}\n",
      "{1: 'one', 2: 'two', 3: 'three'}\n",
      "{}\n",
      "{1: 'one', 2: 'two', 3: 'three'}\n",
      "{'ojas': 1, 'ishwar': 1, 'unnati': 1, 'esha': 1, 'aarya': 1}\n",
      "dict_items([(1, 'riya'), (2, 'Piya'), (3, 'neha')])\n",
      "dict_keys([1, 2, 3])\n",
      "dict_values(['riya', 'Piya', 'neha', 'Yash'])\n",
      "Before updating: dict_keys([1, 2, 3])\n",
      "(3, 'neha')\n",
      "neha\n",
      "Original dictionary: {1: 'riya', 2: 'Piya', 3: 'neha', 4: 'Yash'}\n",
      "Upated dictionary: {1: 'riya', 2: 'Piya', 3: 'neha', 4: 'Yash', 5: 'Jeevan'}\n"
     ]
    }
   ],
   "source": [
    "#The get() method : returns the value for the specified key if the key is in the dictionary. \n",
    "d = {1:'riya', 2:'Piya', 3:'neha'}\n",
    "print(d.get(3))\n",
    "\n",
    "#The clear() method : removes all items from the dictionary.\n",
    "d = {1:'one', 2:'two', 3:'three'}\n",
    "print(d)\n",
    "print(d.clear())\n",
    "\n",
    "# The copy() method : returns a shallow copy of the dictionary.\n",
    "d = {1:'one', 2:'two', 3:'three'}\n",
    "d1 = d.copy()\n",
    "print(d)\n",
    "print(d1)\n",
    "d.clear()\n",
    "print(d)\n",
    "print(d1)   # Here, when the one dictionary is cleared, the other dictionary remains unchanged.\n",
    "\n",
    "#The fromkeys() method : creates a new dictionary from the given sequence of elements with a value provided by the user.\n",
    "keys = {'aarya','esha', 'ishwar', 'ojas', 'unnati'}\n",
    "names = dict.fromkeys(keys,1)\n",
    "print(names)\n",
    "\n",
    "#The items() method : returns a view object that displays a list of dictionary's (key, value) tuple pairs.\n",
    "d = {1:'riya', 2:'Piya', 3:'neha'}\n",
    "print(d.items())\n",
    "\n",
    "#The keys() method: returns a view object that displays a list of all the keys in the dictionary\n",
    "d = {1:'riya', 2:'Piya', 3:'neha'}\n",
    "print(d.keys())\n",
    "\n",
    "#The values() method : returns a view object that displays a list of all the values in the dictionary.\n",
    "d = {1:'riya', 2:'Piya', 3:'neha', 4 : 'Yash'}\n",
    "print(d.values())\n",
    "\n",
    "\n",
    "#The popitem() method : removes and returns the last element (key, value) pair inserted into the dictionary.\n",
    "d = {1:'riya', 2:'Piya', 3:'neha'}\n",
    "print(\"Before updating:\", d.keys())\n",
    "print(d.popitem())\n",
    "\n",
    "#The setdefault() method returns the value of a key (if the key is in dictionary). \n",
    "#If not, it inserts key with a value to the dictionary.\n",
    "d = {1:'riya', 2:'Piya', 3:'neha'}\n",
    "print(d.setdefault(3))\n",
    "\n",
    "#The update() method updates the dictionary with the elements from another dictionary object \n",
    "#or from an iterable of key/value pairs.\n",
    "d = {1:'riya', 2:'Piya', 3:'neha', 4 : 'Yash'}\n",
    "new = {5:'Jeevan'}\n",
    "print(\"Original dictionary:\", d)\n",
    "d.update(new)\n",
    "print(\"Upated dictionary:\", d)\n",
    "\n",
    "\n"
   ]
  },
  {
   "cell_type": "markdown",
   "id": "18121556",
   "metadata": {},
   "source": [
    "### Sorting python dictionary key or value:"
   ]
  },
  {
   "cell_type": "code",
   "execution_count": 6,
   "id": "3063dd70",
   "metadata": {},
   "outputs": [
    {
     "name": "stdout",
     "output_type": "stream",
     "text": [
      "['Geeta', 'Neha', 'Rajveer', 'Rita', 'Vihaan']\n",
      "[1, 8, 56, 100, 432]\n"
     ]
    }
   ],
   "source": [
    "my_dict = {1:'Neha', 100:\"Rajveer\", 432:\"Vihaan\", 56: \"Rita\", 8: \"Geeta\"}\n",
    "values = my_dict.values()\n",
    "l1 = list(values)\n",
    "l1.sort()\n",
    "print(l1)\n",
    "\n",
    "keys = my_dict.keys()\n",
    "l2 = list(keys)\n",
    "l2.sort()\n",
    "print (l2)"
   ]
  }
 ],
 "metadata": {
  "kernelspec": {
   "display_name": "Python 3",
   "language": "python",
   "name": "python3"
  },
  "language_info": {
   "codemirror_mode": {
    "name": "ipython",
    "version": 3
   },
   "file_extension": ".py",
   "mimetype": "text/x-python",
   "name": "python",
   "nbconvert_exporter": "python",
   "pygments_lexer": "ipython3",
   "version": "3.8.8"
  }
 },
 "nbformat": 4,
 "nbformat_minor": 5
}
